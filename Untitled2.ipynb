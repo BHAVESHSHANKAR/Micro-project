{
  "nbformat": 4,
  "nbformat_minor": 0,
  "metadata": {
    "colab": {
      "provenance": []
    },
    "kernelspec": {
      "name": "python3",
      "display_name": "Python 3"
    },
    "language_info": {
      "name": "python"
    }
  },
  "cells": [
    {
      "cell_type": "code",
      "execution_count": 4,
      "metadata": {
        "colab": {
          "base_uri": "https://localhost:8080/"
        },
        "id": "2AwKJFLzQVjX",
        "outputId": "36893fef-01d6-4a9a-854e-e53d9f3b550d"
      },
      "outputs": [
        {
          "output_type": "stream",
          "name": "stdout",
          "text": [
            "enter your name\n",
            "bhavesh\n",
            "Please give a command: turn on fan\n",
            "turning on fan...\n",
            "Please give a command: turn off fan\n",
            "turning off fan...\n",
            "Please give a command: increase temperature\n",
            "Increasing temperature...\n",
            "Please give a command: decrease temperature\n",
            "Decreasing temperature...\n",
            "Please give a command: turn off lights\n",
            "Turning off lights...\n",
            "Please give a command: turn on lights\n",
            "Turning on lights...\n",
            "Please give a command: turn in\n",
            "Sorry, I didn't understand that command.\n",
            "Please give a command: turn out\n",
            "Sorry, I didn't understand that command.\n",
            "Please give a command: exit\n",
            "Exiting program...\n"
          ]
        }
      ],
      "source": [
        "def process_command(command):\n",
        "    if \"lights\" in command:\n",
        "        if \"turn on\" in command:\n",
        "            print(\"Turning on lights...\")\n",
        "            # Code to turn on lights\n",
        "        elif \"turn off\" in command:\n",
        "            print(\"Turning off lights...\")\n",
        "            # Code to turn off lights\n",
        "        else:\n",
        "            print(\"Sorry, I didn't understand that light command.\")\n",
        "    elif \"temperature\" in command:\n",
        "        if \"increase\" in command:\n",
        "            print(\"Increasing temperature...\")\n",
        "            # Code to increase temperature\n",
        "        elif \"decrease\" in command:\n",
        "            print(\"Decreasing temperature...\")\n",
        "            # Code to decrease temperature\n",
        "        else:\n",
        "            print(\"Sorry, I didn't understand that temperature command.\")\n",
        "    elif \"fan\" in command:\n",
        "        if \"turn on\" in command:\n",
        "            print(\"turning on fan...\")\n",
        "            # Code to increase temperature\n",
        "        elif \"turn off\" in command:\n",
        "            print(\"turning off fan...\")\n",
        "            # Code to decrease temperature\n",
        "        else:\n",
        "            print(\"Sorry, I didn't understand that temperature command.\")\n",
        "    else:\n",
        "        print(\"Sorry, I didn't understand that command.\")\n",
        "x=input(\"enter your name\\n\")\n",
        "while True:\n",
        "    user_input = input(\"Please give a command: \").lower()\n",
        "    if user_input == \"exit\":\n",
        "        print(\"Exiting program...\")\n",
        "        break\n",
        "    else:\n",
        "        process_command(user_input)"
      ]
    }
  ]
}